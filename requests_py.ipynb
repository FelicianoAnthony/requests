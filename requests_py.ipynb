{
 "cells": [
  {
   "cell_type": "code",
   "execution_count": 1,
   "metadata": {
    "collapsed": true
   },
   "outputs": [],
   "source": [
    "import requests\n",
    "from string import ascii_letters\n",
    "import json\n",
    "from pprint import pprint\n",
    "from datetime import datetime\n",
    "from collections import defaultdict\n",
    "import logging"
   ]
  },
  {
   "cell_type": "code",
   "execution_count": 2,
   "metadata": {
    "collapsed": true
   },
   "outputs": [],
   "source": [
    "#https://www.toptal.com/python/in-depth-python-logging\n",
    "# different levels of loggins "
   ]
  },
  {
   "cell_type": "code",
   "execution_count": 3,
   "metadata": {
    "collapsed": false
   },
   "outputs": [],
   "source": [
    "logger = logging.getLogger(\"My Requests App\")\n",
    "logger.setLevel(logging.INFO)\n",
    "\n",
    "# create a file handler\n",
    "handler = logging.FileHandler('hello.log')\n",
    "handler.setLevel(logging.INFO)\n",
    "\n",
    "# create a logging format\n",
    "formatter = logging.Formatter('%(asctime)s - %(name)s - %(levelname)s - %(message)s')\n",
    "handler.setFormatter(formatter)\n",
    "\n",
    "# add the handlers to the logger\n",
    "logger.addHandler(handler)\n"
   ]
  },
  {
   "cell_type": "code",
   "execution_count": 19,
   "metadata": {
    "collapsed": true
   },
   "outputs": [],
   "source": [
    "def get_last_id (url):\n",
    "    logger = logging.getLogger(\"My Requests App.get_last_id\")\n",
    "    \n",
    "    resp = requests.get(url, auth=('admin', 'adminpassword'))\n",
    "    logger.info('Send GET request to {}'.format(url))\n",
    "    resp_list = json.loads(resp.text)\n",
    "\n",
    "    last_id = sorted([i['id'] for i in resp_list])[-1]\n",
    "    logger.info('Got last ID - {}'.format(last_id))\n",
    "    #pprint(json.loads(resp.text)[-1])\n",
    "    return last_id"
   ]
  },
  {
   "cell_type": "code",
   "execution_count": 20,
   "metadata": {
    "collapsed": false
   },
   "outputs": [],
   "source": [
    "url = 'http://127.0.0.1:8000/todos/'\n",
    "last_id = get_last_id(url)"
   ]
  },
  {
   "cell_type": "code",
   "execution_count": 33,
   "metadata": {
    "collapsed": false
   },
   "outputs": [],
   "source": [
    "def delete_last_id(url_to_delete):\n",
    "    logger = logging.getLogger(\"My Requests App.delete_last_id\")\n",
    "    try:\n",
    "        delete_response = requests.delete(url_to_delete, timeout=10)\n",
    "    except requests.exceptions.ConnectionError as e:\n",
    "        print(str(e), 'here')\n",
    "        logger.critical('API not on or wrong port')\n",
    "        return False\n",
    "    except requests.exceptions.Timeout as e1:\n",
    "        print(str(e1))\n",
    "        logger.error('Request took too long to complete')\n",
    "        return False\n",
    "\n",
    "    \n",
    "    if delete_response.status_code == 204:\n",
    "        print('Successful!', delete_response.status_code, delete_response.reason)\n",
    "        \n",
    "    if delete_response.status_code == 404:\n",
    "        print(delete_response.status_code, delete_response.reason)\n",
    "        logger.error('URL not found -- {}'.format(url_to_delete))\n",
    "    \n",
    "    #return delete_response"
   ]
  },
  {
   "cell_type": "code",
   "execution_count": 34,
   "metadata": {
    "collapsed": false
   },
   "outputs": [
    {
     "name": "stdout",
     "output_type": "stream",
     "text": [
      "HTTPConnectionPool(host='127.0.0.1', port=8000): Max retries exceeded with url: /todos/57/ (Caused by NewConnectionError('<requests.packages.urllib3.connection.HTTPConnection object at 0x10ad00b70>: Failed to establish a new connection: [Errno 61] Connection refused',))\n"
     ]
    }
   ],
   "source": [
    "\n",
    "url_to_delete = \"{}{}/\".format(url, last_id)\n",
    "#print(url_to_delete)\n",
    "deleted_url = delete_last_id(url_to_delete)"
   ]
  },
  {
   "cell_type": "code",
   "execution_count": 124,
   "metadata": {
    "collapsed": false,
    "scrolled": true
   },
   "outputs": [
    {
     "name": "stdout",
     "output_type": "stream",
     "text": [
      "HTTPConnectionPool(host='127.0.0.1', port=8082): Max retries exceeded with url: /todos/ (Caused by NewConnectionError('<requests.packages.urllib3.connection.HTTPConnection object at 0x104999d68>: Failed to establish a new connection: [Errno 61] Connection refused',))\n"
     ]
    }
   ],
   "source": [
    "url = 'http://127.0.0.1:8082/todos/'\n",
    "try:\n",
    "    r = requests.get(url)\n",
    "    print(r.status_code, r.reason, r.text)\n",
    "except requests.exceptions.ConnectionError as e:\n",
    "    print(str(e))"
   ]
  },
  {
   "cell_type": "code",
   "execution_count": 111,
   "metadata": {
    "collapsed": false
   },
   "outputs": [
    {
     "data": {
      "text/plain": [
       "(404, 'Not Found')"
      ]
     },
     "execution_count": 111,
     "metadata": {},
     "output_type": "execute_result"
    }
   ],
   "source": [
    "requests.exceptions.Timeout"
   ]
  },
  {
   "cell_type": "code",
   "execution_count": 110,
   "metadata": {
    "collapsed": false
   },
   "outputs": [
    {
     "data": {
      "text/plain": [
       "'http://127.0.0.1:8000/todos/58/'"
      ]
     },
     "execution_count": 110,
     "metadata": {},
     "output_type": "execute_result"
    }
   ],
   "source": [
    "url_to_delete"
   ]
  },
  {
   "cell_type": "code",
   "execution_count": 14,
   "metadata": {
    "collapsed": false,
    "scrolled": true
   },
   "outputs": [],
   "source": [
    "def create_buncha_post(url):\n",
    "\n",
    "    count = get_last_id(url) +1\n",
    "    for i in range(len(ascii_letters)):\n",
    "        p = requests.post(url, data={'title': 'title_{}'.format(count),  'content': 'content_{}'.format(ascii_letters[i])})\n",
    "        print(p.status_code, p.reason)\n",
    "        count+=1"
   ]
  },
  {
   "cell_type": "code",
   "execution_count": 84,
   "metadata": {
    "collapsed": false
   },
   "outputs": [
    {
     "data": {
      "text/plain": [
       "b'{\"id\":11,\"title\":\"title9\",\"content\":\"description_8\",\"created_at\":\"2018-09-10T00:48:36.011199Z\",\"updated_at\":\"2018-09-10T00:48:36.011237Z\"}'"
      ]
     },
     "execution_count": 84,
     "metadata": {},
     "output_type": "execute_result"
    }
   ],
   "source": [
    "url = 'http://127.0.0.1:8000/todos/'\n",
    "\n"
   ]
  },
  {
   "cell_type": "markdown",
   "metadata": {},
   "source": [
    "status code & reason\n",
    "\n",
    "(204, 'No Content') \n",
    " ^^ when you successfully delete \n",
    "\n",
    "(404, 'Not Found')  -- no Exception -- e.g. search for an endpoint that doesnt exist \n",
    "^^ try to delete something that doesnt exist \n",
    "\n",
    "(404, 'Not Found')  -- with exception \n",
    "HTTPConnectionPool(host='127.0.0.1', port=8000): Max retries exceeded with url: /todos/9/ (Caused by NewConnectionError('<requests.packages.urllib3.connection.HTTPConnection object at 0x111c38588>: Failed to establish a new connection: [Errno 61] Connection refused',))\n",
    "\n",
    "\n",
    "\n",
    "\n",
    "______ catch error when api is down \n",
    "try:\n",
    "    delete_response = requests.delete(url_to_delete)\n",
    "except requests.exceptions.ConnectionError as e:\n",
    "    print(str(e), 'here')\n",
    "delete_response.status_code, delete_response.reason\n",
    "\n",
    "\n",
    "\n",
    "### add one about SSL certs in logging debug \n",
    "\n",
    "-- deleting a hostname that doesnt exist  (404 not found) -- no exception  -- make a get request before this for that id & stop if not exist (warn) -- or if GET != 200\n",
    "-- api is off (404 not found) -- with exception (critical)\n",
    "-- successful delete (204 - no content) (info)\n",
    "-- if get not 200 \n",
    "-- proper authorization -- (403 forbidden)\n",
    "-- connecting to wrong django port -- but if it was on wrong port would django even be able to respond? \n",
    "- request took too long to complete -- exception -- use timeout kwarg on request.delete\n",
    "\n"
   ]
  },
  {
   "cell_type": "code",
   "execution_count": null,
   "metadata": {
    "collapsed": true
   },
   "outputs": [],
   "source": []
  }
 ],
 "metadata": {
  "kernelspec": {
   "display_name": "Python 3",
   "language": "python",
   "name": "python3"
  },
  "language_info": {
   "codemirror_mode": {
    "name": "ipython",
    "version": 3
   },
   "file_extension": ".py",
   "mimetype": "text/x-python",
   "name": "python",
   "nbconvert_exporter": "python",
   "pygments_lexer": "ipython3",
   "version": "3.6.0"
  }
 },
 "nbformat": 4,
 "nbformat_minor": 2
}
